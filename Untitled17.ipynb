{
  "nbformat": 4,
  "nbformat_minor": 0,
  "metadata": {
    "colab": {
      "name": "Untitled17.ipynb",
      "provenance": [],
      "authorship_tag": "ABX9TyPUFEUf8/SnW83EokBSJMlb",
      "include_colab_link": true
    },
    "kernelspec": {
      "name": "python3",
      "display_name": "Python 3"
    },
    "language_info": {
      "name": "python"
    }
  },
  "cells": [
    {
      "cell_type": "markdown",
      "metadata": {
        "id": "view-in-github",
        "colab_type": "text"
      },
      "source": [
        "<a href=\"https://colab.research.google.com/github/Doctorjung/web1/blob/main/Untitled17.ipynb\" target=\"_parent\"><img src=\"https://colab.research.google.com/assets/colab-badge.svg\" alt=\"Open In Colab\"/></a>"
      ]
    },
    {
      "cell_type": "markdown",
      "source": [
        "# colab 둘러보기"
      ],
      "metadata": {
        "id": "aKLd-BhTXk5y"
      }
    },
    {
      "cell_type": "markdown",
      "source": [
        "**colab에서 실행하는 파이썬**"
      ],
      "metadata": {
        "id": "4dW8o51hWTjD"
      }
    },
    {
      "cell_type": "markdown",
      "source": [
        "+ **Colab 환경의 특징**\n",
        " - 무료로 쉽게\n",
        "   + 컴퓨팅 파워\n",
        "\n"
      ],
      "metadata": {
        "id": "ssyEzjI_Y66d"
      }
    }
  ]
}